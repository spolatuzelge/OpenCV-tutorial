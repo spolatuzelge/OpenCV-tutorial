{
 "cells": [
  {
   "cell_type": "markdown",
   "metadata": {},
   "source": [
    "## GÖRÜNTÜ YOĞUNLUK DÖNÜŞÜMÜ"
   ]
  },
  {
   "cell_type": "code",
   "execution_count": 1,
   "metadata": {},
   "outputs": [],
   "source": [
    "import cv2\n",
    "import numpy as np"
   ]
  },
  {
   "cell_type": "code",
   "execution_count": 2,
   "metadata": {},
   "outputs": [],
   "source": [
    "## LOG TRANSFORM\n",
    "\n",
    "img = cv2.imread(r\"materyal\\cam.png\")\n",
    "\n",
    "\n",
    "c=255 / (np.log(1+np.max(img)))\n",
    "logTransformed = c * np.log(1 + img)\n",
    "logTransformed = np.array(logTransformed, dtype= np.uint8)\n",
    "\n",
    "cv2.imshow(\"LOG TRANSFORMED\",logTransformed)\n",
    "\n",
    "cv2.waitKey(0)\n",
    "cv2.destroyAllWindows()"
   ]
  },
  {
   "cell_type": "code",
   "execution_count": 3,
   "metadata": {},
   "outputs": [],
   "source": [
    "## POWER-LAW TRANSFORM\n",
    "\n",
    "for gamma in [0.1,0.5,1.2,2.2]:\n",
    "    gammaCoorected = np.array(255*(img/255)**gamma , dtype='uint8')\n",
    "\n",
    "    cv2.imshow(f\"{gamma} Gamma Degeri\",gammaCoorected)\n",
    "\n",
    "    cv2.waitKey(0)\n",
    "    cv2.destroyAllWindows()"
   ]
  },
  {
   "cell_type": "code",
   "execution_count": 4,
   "metadata": {},
   "outputs": [],
   "source": [
    "## PİECEWİSE-LİNEAR TRANSFORM\n",
    "\n",
    "def pixelVal(pix, r1, s1, r2, s2):\n",
    "    if(0<=pix and pix <=r1):\n",
    "        return (s1 / r1) * pix\n",
    "    elif (r1<pix and pix <= r2):\n",
    "        return ((s2-s1) / (r2 - r1))*(pix - r1) + s1\n",
    "    else:\n",
    "        return ((255 - s2)/(255 - r2)) * (pix - r2) + s2\n",
    "    \n",
    "\n",
    "pixelVal_vec = np.vectorize(pixelVal)\n",
    "contrastSetretched = pixelVal_vec(img, 70,0,140,255)\n",
    "\n",
    "cv2.imshow(\"Piecewise-Linear\", contrastSetretched)\n",
    "cv2.waitKey(0)\n",
    "cv2.destroyAllWindows()"
   ]
  }
 ],
 "metadata": {
  "kernelspec": {
   "display_name": "opencv",
   "language": "python",
   "name": "python3"
  },
  "language_info": {
   "codemirror_mode": {
    "name": "ipython",
    "version": 3
   },
   "file_extension": ".py",
   "mimetype": "text/x-python",
   "name": "python",
   "nbconvert_exporter": "python",
   "pygments_lexer": "ipython3",
   "version": "3.12.4"
  }
 },
 "nbformat": 4,
 "nbformat_minor": 2
}
