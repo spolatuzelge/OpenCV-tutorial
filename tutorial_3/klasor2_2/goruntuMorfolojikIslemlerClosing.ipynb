{
 "cells": [
  {
   "cell_type": "markdown",
   "metadata": {},
   "source": [
    "## GÖRÜNTÜDE MORFOLOJK İŞLEMLER (CLOSİNG)"
   ]
  },
  {
   "cell_type": "code",
   "execution_count": 1,
   "metadata": {},
   "outputs": [],
   "source": [
    "import cv2\n",
    "import numpy as np"
   ]
  },
  {
   "cell_type": "code",
   "execution_count": 3,
   "metadata": {},
   "outputs": [],
   "source": [
    "vid = cv2.VideoCapture(0)\n",
    "\n",
    "while True:\n",
    "    _, frame = vid.read()\n",
    "    frame = cv2.flip(frame, 1) # aynalama işlemi\n",
    "    hsv = cv2.cvtColor(frame, cv2.COLOR_BGR2HSV)\n",
    "\n",
    "    blue1 = np.array([110, 50, 50]) # alt sınır\n",
    "    blue2 = np.array([130, 255, 255]) # üst sınır\n",
    "\n",
    "    mask = cv2.inRange(hsv, blue1, blue2) # maskeleme işlemi\n",
    "\n",
    "    res = cv2.bitwise_and(frame, frame, mask=mask) # maskeleme işlemi\n",
    "\n",
    "    kernel = np.ones((5, 5), np.uint8)\n",
    "\n",
    "    opening = cv2.morphologyEx(mask, cv2.MORPH_CLOSE, kernel) # açma işlemi\n",
    "\n",
    "    cv2.imshow('frame', frame) \n",
    "    cv2.imshow('mask', mask)\n",
    "    cv2.imshow('res', res)\n",
    "\n",
    "    if cv2.waitKey(1) & 0xFF == ord('q'):\n",
    "        break\n",
    "    \n",
    "vid.release()\n",
    "cv2.destroyAllWindows()"
   ]
  },
  {
   "cell_type": "code",
   "execution_count": null,
   "metadata": {},
   "outputs": [],
   "source": []
  }
 ],
 "metadata": {
  "kernelspec": {
   "display_name": "Python 3",
   "language": "python",
   "name": "python3"
  },
  "language_info": {
   "codemirror_mode": {
    "name": "ipython",
    "version": 3
   },
   "file_extension": ".py",
   "mimetype": "text/x-python",
   "name": "python",
   "nbconvert_exporter": "python",
   "pygments_lexer": "ipython3",
   "version": "3.11.4"
  }
 },
 "nbformat": 4,
 "nbformat_minor": 2
}
