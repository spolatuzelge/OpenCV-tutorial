{
 "cells": [
  {
   "cell_type": "markdown",
   "metadata": {},
   "source": [
    "## GÖRÜNTÜ ARKA PLAN ÇIKARMA"
   ]
  },
  {
   "cell_type": "code",
   "execution_count": 1,
   "metadata": {},
   "outputs": [],
   "source": [
    "import cv2\n",
    "import numpy as np"
   ]
  },
  {
   "cell_type": "code",
   "execution_count": 2,
   "metadata": {},
   "outputs": [],
   "source": [
    "cap = cv2.VideoCapture(0)\n",
    "fgbg = cv2.createBackgroundSubtractorMOG2()\n",
    "\n",
    "while True:\n",
    "    ret,frame = cap.read()\n",
    "    frame = cv2.flip(frame,1)\n",
    "\n",
    "    fgmask = fgbg.apply(frame)\n",
    "    cv2.imshow(\"FG Mask\",fgmask)\n",
    "    cv2.imshow(\"Frame\",frame)\n",
    "\n",
    "    k = cv2.waitKey(30) & 0xFF\n",
    "    if k == 27:\n",
    "        break\n",
    "\n",
    "cap.release()\n",
    "cv2.destroyAllWindows()"
   ]
  },
  {
   "cell_type": "code",
   "execution_count": 3,
   "metadata": {},
   "outputs": [],
   "source": [
    "## Çalışan Ortalama Kavramını Kullanarak Bir Görüntüde Arka Plan Çıkarma\n",
    "\n",
    "cap = cv2.VideoCapture(0)\n",
    "_,img = cap.read()\n",
    "\n",
    "averageValue1 = np.float32(img)\n",
    "\n",
    "\n",
    "while True:\n",
    "    _, img = cap.read()\n",
    "    img = cv2.flip(img,1)\n",
    "\n",
    "    cv2.accumulateWeighted(img, averageValue1, 0.02)\n",
    "\n",
    "    resultingFrames1 = cv2.convertScaleAbs(averageValue1)\n",
    "    cv2.imshow(\"Orijinal\",img)\n",
    "    cv2.imshow(\"Average Value\",resultingFrames1)\n",
    "\n",
    "    k = cv2.waitKey(30) & 0xFF\n",
    "    if k == 27:\n",
    "        break\n",
    "\n",
    "cap.release()\n",
    "cv2.destroyAllWindows()"
   ]
  }
 ],
 "metadata": {
  "kernelspec": {
   "display_name": "Python 3",
   "language": "python",
   "name": "python3"
  },
  "language_info": {
   "codemirror_mode": {
    "name": "ipython",
    "version": 3
   },
   "file_extension": ".py",
   "mimetype": "text/x-python",
   "name": "python",
   "nbconvert_exporter": "python",
   "pygments_lexer": "ipython3",
   "version": "3.11.4"
  }
 },
 "nbformat": 4,
 "nbformat_minor": 2
}
