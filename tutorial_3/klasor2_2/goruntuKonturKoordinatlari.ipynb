{
 "cells": [
  {
   "cell_type": "markdown",
   "metadata": {},
   "source": [
    "## GÖRÜNTÜ KONTUR VE KOORDİNATLARI"
   ]
  },
  {
   "cell_type": "code",
   "execution_count": 1,
   "metadata": {},
   "outputs": [],
   "source": [
    "import cv2\n",
    "import numpy as np"
   ]
  },
  {
   "cell_type": "code",
   "execution_count": null,
   "metadata": {},
   "outputs": [],
   "source": [
    "img = cv2.imread(r\"materyal\\geomettrikSekller.png\")\n",
    "imgGray = cv2.cvtColor(img, cv2.COLOR_BGR2GRAY)"
   ]
  },
  {
   "cell_type": "code",
   "execution_count": 3,
   "metadata": {},
   "outputs": [],
   "source": [
    "_,tresh = cv2.threshold(imgGray, 110,225,cv2.THRESH_BINARY)\n",
    "\n",
    "contours, _ = cv2.findContours(tresh, cv2.RETR_TREE,\n",
    "                               cv2.CHAIN_APPROX_SIMPLE)"
   ]
  },
  {
   "cell_type": "code",
   "execution_count": 4,
   "metadata": {},
   "outputs": [],
   "source": [
    "for cnt in contours:\n",
    "    approx = cv2.approxPolyDP( cnt, 0.009*cv2.arcLength(cnt,True),True)\n",
    "    cv2.drawContours(imgGray,  [approx],0,(0,0,255),5)\n",
    "\n",
    "    n = approx.ravel()\n",
    "    i = 0 \n",
    "\n",
    "    for j in n :\n",
    "        if (i % 2  == 0):\n",
    "            x = n[i]\n",
    "            y = n[i+1]\n",
    "\n",
    "            string = str(x) + \" \" + str(y)\n",
    "\n",
    "            if(i==0):\n",
    "                cv2.putText(img, \"Arrow Tip\", (x,y),cv2.FONT_HERSHEY_COMPLEX,0.5,(255,0,0))\n",
    "            else:\n",
    "                cv2.putText(img, string, (x,y),cv2.FONT_HERSHEY_COMPLEX,0.5,(0,255,0))\n",
    "        i = i + 1\n",
    "\n",
    "cv2.imshow(\"İMAGE\", img)\n",
    "\n",
    "if cv2.waitKey(0) & 0xFF == ord('q'):  \n",
    "    cv2.destroyAllWindows()"
   ]
  }
 ],
 "metadata": {
  "kernelspec": {
   "display_name": "Python 3",
   "language": "python",
   "name": "python3"
  },
  "language_info": {
   "codemirror_mode": {
    "name": "ipython",
    "version": 3
   },
   "file_extension": ".py",
   "mimetype": "text/x-python",
   "name": "python",
   "nbconvert_exporter": "python",
   "pygments_lexer": "ipython3",
   "version": "3.11.4"
  }
 },
 "nbformat": 4,
 "nbformat_minor": 2
}
