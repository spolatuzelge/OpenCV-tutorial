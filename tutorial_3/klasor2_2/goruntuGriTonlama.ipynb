{
 "cells": [
  {
   "cell_type": "markdown",
   "metadata": {},
   "source": [
    "## GRİ TONLAMALI GÖRÜNTÜ"
   ]
  },
  {
   "cell_type": "code",
   "execution_count": 1,
   "metadata": {},
   "outputs": [],
   "source": [
    "import cv2\n",
    "import numpy as np"
   ]
  },
  {
   "cell_type": "code",
   "execution_count": 2,
   "metadata": {},
   "outputs": [],
   "source": [
    "img = cv2.imread(r\"materyal\\tomato.png\")\n",
    "\n",
    "cv2.imshow(\"Original Image\", img)\n",
    "cv2.waitKey(0)\n",
    "\n",
    "gray_img = cv2.cvtColor(img, cv2.COLOR_BGR2GRAY)\n",
    "cv2.imshow(\"Gray Image\", gray_img)\n",
    "cv2.waitKey(0)\n",
    "\n",
    "cv2.destroyAllWindows()"
   ]
  },
  {
   "cell_type": "code",
   "execution_count": 3,
   "metadata": {},
   "outputs": [],
   "source": [
    "img2 = cv2.imread(r\"materyal\\tomato.png\",0)\n",
    "cv2.imshow(\"Gray Image\", img2)\n",
    "cv2.waitKey(0)\n",
    "cv2.destroyAllWindows()"
   ]
  },
  {
   "cell_type": "code",
   "execution_count": 4,
   "metadata": {},
   "outputs": [
    {
     "name": "stderr",
     "output_type": "stream",
     "text": [
      "C:\\Users\\polat\\AppData\\Local\\Temp\\ipykernel_7120\\266980047.py:8: RuntimeWarning: overflow encountered in scalar add\n",
      "  img3[i, j] = sum(img3[i,j]) * 0.33\n"
     ]
    }
   ],
   "source": [
    "# Piksel Manipülasyonu \n",
    "img3 = cv2.imread(r\"materyal\\tomato.png\")\n",
    "\n",
    "row, col, channel = img3.shape\n",
    "\n",
    "for i in range(row):\n",
    "    for j in range(col):\n",
    "        img3[i, j] = sum(img3[i,j]) * 0.33\n",
    "\n",
    "cv2.imshow(\"Pixel Manipulation\", img3)\n",
    "cv2.waitKey(0)\n",
    "cv2.destroyAllWindows()"
   ]
  }
 ],
 "metadata": {
  "kernelspec": {
   "display_name": "opencv",
   "language": "python",
   "name": "python3"
  },
  "language_info": {
   "codemirror_mode": {
    "name": "ipython",
    "version": 3
   },
   "file_extension": ".py",
   "mimetype": "text/x-python",
   "name": "python",
   "nbconvert_exporter": "python",
   "pygments_lexer": "ipython3",
   "version": "3.12.4"
  }
 },
 "nbformat": 4,
 "nbformat_minor": 2
}
