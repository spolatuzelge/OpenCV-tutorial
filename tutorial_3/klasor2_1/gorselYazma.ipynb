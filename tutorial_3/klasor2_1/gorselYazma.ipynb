{
 "cells": [
  {
   "cell_type": "markdown",
   "metadata": {},
   "source": [
    "## BİR GÖRSELİN YAZILMASI"
   ]
  },
  {
   "cell_type": "code",
   "execution_count": 1,
   "metadata": {},
   "outputs": [],
   "source": [
    "import cv2\n",
    "import os"
   ]
  },
  {
   "cell_type": "code",
   "execution_count": 2,
   "metadata": {},
   "outputs": [
    {
     "name": "stdout",
     "output_type": "stream",
     "text": [
      "Görsel başarıyla kaydedildi.\n"
     ]
    }
   ],
   "source": [
    "# ÖRNEK 1:\n",
    "\n",
    "img = cv2.imread(r\"materyal\\GG.png\",0)\n",
    "directory = (r\"materyal\")\n",
    "\n",
    "os.chdir(directory)\n",
    "\n",
    "saveName = \"GG_gorselYazma.jpg\"\n",
    "\n",
    "cv2.imwrite(saveName, img)\n",
    "print(\"Görsel başarıyla kaydedildi.\")"
   ]
  }
 ],
 "metadata": {
  "kernelspec": {
   "display_name": "opencv",
   "language": "python",
   "name": "python3"
  },
  "language_info": {
   "codemirror_mode": {
    "name": "ipython",
    "version": 3
   },
   "file_extension": ".py",
   "mimetype": "text/x-python",
   "name": "python",
   "nbconvert_exporter": "python",
   "pygments_lexer": "ipython3",
   "version": "3.12.4"
  }
 },
 "nbformat": 4,
 "nbformat_minor": 2
}
