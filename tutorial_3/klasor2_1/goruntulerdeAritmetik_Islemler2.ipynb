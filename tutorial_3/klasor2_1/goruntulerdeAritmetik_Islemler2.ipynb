{
 "cells": [
  {
   "cell_type": "markdown",
   "metadata": {},
   "source": [
    "## İkili Görüntülerde Bitsel İşlemler"
   ]
  },
  {
   "cell_type": "code",
   "execution_count": 1,
   "metadata": {},
   "outputs": [],
   "source": [
    "import cv2\n",
    "import numpy as np"
   ]
  },
  {
   "cell_type": "code",
   "execution_count": 2,
   "metadata": {},
   "outputs": [],
   "source": [
    "## ÖRNEK 1 : AND İŞLEMİ\n",
    "\n",
    "img1 = cv2.imread(r\"materyal\\bitwise1.png\")\n",
    "img2 = cv2.imread(r\"materyal\\bitwise2.png\")\n",
    "\n",
    "bitAnd = cv2.bitwise_and(img2, img1, mask = None) \n",
    "\n",
    "cv2.imshow(\"img1\", img1)\n",
    "cv2.imshow(\"img2\", img2)\n",
    "cv2.imshow(\"bitAnd\", bitAnd)\n",
    "\n",
    "cv2.waitKey(0)\n",
    "cv2.destroyAllWindows()"
   ]
  },
  {
   "cell_type": "code",
   "execution_count": 3,
   "metadata": {},
   "outputs": [],
   "source": [
    "## ÖRNEK 2 : OR İŞLEMİ\n",
    "\n",
    "img1 = cv2.imread(r\"materyal\\bitwise1.png\")\n",
    "img2 = cv2.imread(r\"materyal\\bitwise2.png\")\n",
    "\n",
    "bitOr = cv2.bitwise_or(img2, img1, mask = None) \n",
    "cv2.imshow(\"img1\", img1)\n",
    "cv2.imshow(\"img2\", img2)\n",
    "cv2.imshow(\"bitOR\", bitOr)\n",
    "\n",
    "cv2.waitKey(0)\n",
    "cv2.destroyAllWindows()"
   ]
  },
  {
   "cell_type": "code",
   "execution_count": 4,
   "metadata": {},
   "outputs": [],
   "source": [
    "## ÖRNEK 3 : XOR İŞLEMİ\n",
    "\n",
    "\n",
    "img1 = cv2.imread(r\"materyal\\bitwise1.png\")\n",
    "img2 = cv2.imread(r\"materyal\\bitwise2.png\")\n",
    "\n",
    "bitOr = cv2.bitwise_xor(img2, img1, mask = None) \n",
    "\n",
    "cv2.imshow(\"img1\", img1)\n",
    "cv2.imshow(\"img2\", img2)\n",
    "cv2.imshow(\"bitOR\", bitOr)\n",
    "\n",
    "cv2.waitKey(0)\n",
    "cv2.destroyAllWindows()"
   ]
  },
  {
   "cell_type": "code",
   "execution_count": 5,
   "metadata": {},
   "outputs": [],
   "source": [
    "## ÖRNEK 4 : NOT İŞLEMİ\n",
    "\n",
    "\n",
    "img1 = cv2.imread(r\"materyal\\bitwise1.png\")\n",
    "img2 = cv2.imread(r\"materyal\\bitwise2.png\")\n",
    "\n",
    "imgNot1 = cv2.bitwise_not(img1, mask = None)\n",
    "imgNot2 = cv2.bitwise_not(img2, mask = None)\n",
    "\n",
    "\n",
    "cv2.imshow(\"img1\", img1)\n",
    "cv2.imshow(\"img2\", img2)\n",
    "cv2.imshow(\"imgNot1\", imgNot1)\n",
    "cv2.imshow(\"imgNot2\", imgNot2)\n",
    "\n",
    "\n",
    "cv2.waitKey(0)\n",
    "cv2.destroyAllWindows()"
   ]
  }
 ],
 "metadata": {
  "kernelspec": {
   "display_name": "opencv",
   "language": "python",
   "name": "python3"
  },
  "language_info": {
   "codemirror_mode": {
    "name": "ipython",
    "version": 3
   },
   "file_extension": ".py",
   "mimetype": "text/x-python",
   "name": "python",
   "nbconvert_exporter": "python",
   "pygments_lexer": "ipython3",
   "version": "3.12.4"
  }
 },
 "nbformat": 4,
 "nbformat_minor": 2
}
