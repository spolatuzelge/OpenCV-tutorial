{
 "cells": [
  {
   "cell_type": "markdown",
   "metadata": {},
   "source": [
    "## GÖRÜNTÜDEKİ YUVARLAK NESNELERİ TESPİT ETME"
   ]
  },
  {
   "cell_type": "code",
   "execution_count": 1,
   "metadata": {},
   "outputs": [],
   "source": [
    "import cv2\n",
    "import numpy as np\n"
   ]
  },
  {
   "cell_type": "code",
   "execution_count": 2,
   "metadata": {},
   "outputs": [],
   "source": [
    "img = cv2.imread(r\"materyal\\eye.png\")\n",
    "imgGray = cv2.cvtColor(img, cv2.COLOR_BGR2GRAY)\n",
    "grayBlur = cv2.blur(imgGray, (3,3))\n",
    "\n",
    "detecCircles = cv2.HoughCircles(grayBlur, \n",
    "                                cv2.HOUGH_GRADIENT, 1, 20, param1=50, \n",
    "                                param2=30, minRadius=1, maxRadius=40)\n",
    "\n",
    "if detecCircles is not None:\n",
    "    detecCircles = np.uint16(np.around(detecCircles))\n",
    "    for i in detecCircles[0, :]:\n",
    "        cv2.circle(img, (i[0], i[1]), i[2], (255, 255, 0), 2)\n",
    "        cv2.circle(img, (i[0], i[1]), 2, (255, 255, 0), 5)\n",
    "\n",
    "cv2.imshow(\"Image\", img)\n",
    "cv2.waitKey(0)\n",
    "cv2.destroyAllWindows()"
   ]
  }
 ],
 "metadata": {
  "kernelspec": {
   "display_name": "opencv",
   "language": "python",
   "name": "python3"
  },
  "language_info": {
   "codemirror_mode": {
    "name": "ipython",
    "version": 3
   },
   "file_extension": ".py",
   "mimetype": "text/x-python",
   "name": "python",
   "nbconvert_exporter": "python",
   "pygments_lexer": "ipython3",
   "version": "3.12.4"
  }
 },
 "nbformat": 4,
 "nbformat_minor": 2
}
