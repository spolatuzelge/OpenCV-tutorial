{
 "cells": [
  {
   "cell_type": "markdown",
   "metadata": {},
   "source": [
    "### OpenCV'ye Giriş"
   ]
  },
  {
   "cell_type": "code",
   "execution_count": 17,
   "metadata": {},
   "outputs": [],
   "source": [
    "import cv2\n",
    "import numpy as np"
   ]
  },
  {
   "cell_type": "code",
   "execution_count": 18,
   "metadata": {},
   "outputs": [
    {
     "name": "stdout",
     "output_type": "stream",
     "text": [
      "Height: 735 , Width: 1100\n"
     ]
    }
   ],
   "source": [
    "## BİR RESMİN OKUNMASI : Öncelikle bir görüntüyü okuyacağız.Ardından görüntünü yükseklik ve genişlik değerlerini alacağız.\n",
    "\n",
    "img = cv2.imread(r\"materal\\way.png\")\n",
    "height, width = img.shape[:2]\n",
    "print(\"Height: {} , Width: {}\".format(height,width)) # Görüntünün yükseklik ve genişlik değerlerini yazdırır."
   ]
  },
  {
   "cell_type": "code",
   "execution_count": 19,
   "metadata": {},
   "outputs": [
    {
     "name": "stdout",
     "output_type": "stream",
     "text": [
      "R: 239, G: 200, B: 157\n",
      "R: 239, G: 200, B: 157\n"
     ]
    }
   ],
   "source": [
    "## BİR PİKSELİN RENK DEĞERLERİNİ ALMAK : Bir pikselin rengini almak için, pikselin koordinatlarını belirtmeniz gerekir.\n",
    "## RGB görüntü, opencv'de BGR olarak saklanır. Bu nedenle, pikselin BGR değerlerini almak için aşağıdaki kodu kullanabilirsiniz.\n",
    "\n",
    "(B, G, R) = img[100, 100] # 100,100 koordinatındaki pikselin BGR değerlerini alır.\n",
    "print(\"R: {}, G: {}, B: {}\".format(R, G, B)) # BGR değerlerini yazdırır.\n",
    "\n",
    "B = img[100, 100, 0] # 100,100 koordinatındaki pikselin mavi değerini alır.\n",
    "G = img[100, 100, 1] # 100,100 koordinatındaki pikselin yeşil değerini alır.\n",
    "R = img[100, 100, 2] # 100,100 koordinatındaki pikselin kırmızı değerini alır.\n",
    "print(\"R: {}, G: {}, B: {}\".format(R, G, B)) # BGR değerlerini yazdırır."
   ]
  },
  {
   "cell_type": "code",
   "execution_count": 20,
   "metadata": {},
   "outputs": [
    {
     "data": {
      "text/plain": [
       "-1"
      ]
     },
     "execution_count": 20,
     "metadata": {},
     "output_type": "execute_result"
    }
   ],
   "source": [
    "## İLGİ ALANININ ÇIKARILMASI : Görüntünün piksellerini dilimleyerek yapılabilir.\n",
    "\n",
    "roi = img[300:500, 500:700] # 100,100 ve 500,800 koordinatları arasındaki pikselleri alır.\n",
    "                            #[100:500, 100:800] = [y1:y2, x1:x2]\n",
    "cv2.imshow(\"ROI\", roi) # ROI'yi gösterir.\n",
    "cv2.waitKey(0) # Kullanıcı bir tuşa basana kadar bekler."
   ]
  },
  {
   "cell_type": "code",
   "execution_count": 21,
   "metadata": {},
   "outputs": [
    {
     "data": {
      "text/plain": [
       "-1"
      ]
     },
     "execution_count": 21,
     "metadata": {},
     "output_type": "execute_result"
    }
   ],
   "source": [
    "## YENİDEN BOYUTLANDIRMA \n",
    "\n",
    "resize = cv2.resize(img, (500,500)) # Görüntüyü yarı boyuta yeniden boyutlandırır.\n",
    "                                                        # resize(image, (width, height))\n",
    "cv2.imshow(\"Resized\", resize) # Yeniden boyutlandırılmış görüntüyü gösterir.\n",
    "cv2.waitKey(0) # Kullanıcı bir tuşa basana kadar bekler."
   ]
  },
  {
   "cell_type": "code",
   "execution_count": 22,
   "metadata": {},
   "outputs": [
    {
     "data": {
      "text/plain": [
       "-1"
      ]
     },
     "execution_count": 22,
     "metadata": {},
     "output_type": "execute_result"
    }
   ],
   "source": [
    "#### En boy oranını koruyarak yeniden boyutlandırma\n",
    "\n",
    "ratio = 800 / width\n",
    "dim = (800, int(height * ratio))\n",
    "resize = cv2.resize(img, dim)\n",
    "cv2.imshow(\"Aspect Ratio Resize\", resize)\n",
    "cv2.waitKey(0)"
   ]
  },
  {
   "cell_type": "code",
   "execution_count": 23,
   "metadata": {},
   "outputs": [
    {
     "data": {
      "text/plain": [
       "-1"
      ]
     },
     "execution_count": 23,
     "metadata": {},
     "output_type": "execute_result"
    }
   ],
   "source": [
    "## GÖRÜNTÜYE DÖRTGEN ÇİZME\n",
    "\n",
    "out = img.copy() # Görüntüyü kopyalar.\n",
    "\n",
    "rectangle = cv2.rectangle(out, (100, 100), (200, 200), (0, 255, 0), 2) # Görüntüye dörtgen çizer.\n",
    "\n",
    "cv2.imshow(\"Rectangle\", rectangle) # Dikdörtgeni gösterir.\n",
    "cv2.waitKey(0) # Kullanıcı bir tuşa basana kadar bekler."
   ]
  },
  {
   "cell_type": "code",
   "execution_count": 24,
   "metadata": {},
   "outputs": [
    {
     "data": {
      "text/plain": [
       "-1"
      ]
     },
     "execution_count": 24,
     "metadata": {},
     "output_type": "execute_result"
    }
   ],
   "source": [
    "## GÖRÜNTÜYE YAZI YAZMA : Bir görüntüye yazı yazmak için, cv2.putText() fonksiyonunu kullanabilirsiniz.\n",
    "\n",
    "out = img.copy() # Görüntüyü kopyalar.\n",
    "text = cv2.putText(out, 'OpenCV Tutorial GeeksForGeeks', (100, 100), cv2.FONT_HERSHEY_SIMPLEX, 2, (0, 255, 0), 2) # Görüntüye yazı yazar.\n",
    "\n",
    "cv2.imshow(\"Text\", text) # Yazıyı gösterir.\n",
    "cv2.waitKey(0) # Kullanıcı bir tuşa basana kadar bekler."
   ]
  }
 ],
 "metadata": {
  "kernelspec": {
   "display_name": "opencv",
   "language": "python",
   "name": "python3"
  },
  "language_info": {
   "codemirror_mode": {
    "name": "ipython",
    "version": 3
   },
   "file_extension": ".py",
   "mimetype": "text/x-python",
   "name": "python",
   "nbconvert_exporter": "python",
   "pygments_lexer": "ipython3",
   "version": "3.12.4"
  }
 },
 "nbformat": 4,
 "nbformat_minor": 2
}
